{
 "cells": [
  {
   "cell_type": "markdown",
   "id": "4bc2c96b-06b4-4cd3-a7f1-90748a097356",
   "metadata": {},
   "source": [
    "# Advent of Code 2021\n",
    "\n",
    "This solution (Jupyter notebook; coconut 1.5.0 on python 3.7.11) by kannix68, @ 2021-12.  \\\n",
    "Using anaconda distro, conda v4.10.3, and coconut language. installation on MacOS v10.14.6 \"Mojave\"."
   ]
  },
  {
   "cell_type": "code",
   "execution_count": null,
   "id": "f05b3cb2-6ebd-411b-9617-dc971d9adafe",
   "metadata": {},
   "outputs": [],
   "source": [
    "import copy\n",
    "import itertools\n",
    "import logging\n",
    "import re\n",
    "import sys\n",
    "import time\n",
    "\n",
    "from collections import defaultdict\n",
    "\n",
    "import numpy as np\n",
    "import pandas as pd\n",
    "\n",
    "import pylib.aochelper as aoc\n",
    "#from pylib.aochelper import map_list as mapl\n",
    "#from pylib.aochelper import filter_list as filterl\n",
    "\n",
    "f\"Python version: {sys.version}\" |> print\n",
    "f\"Version info: {sys.version_info}\" |> print\n",
    "\n",
    "log = aoc.getLogger(__name__)\n",
    "f\"Initial log-level={aoc.getLogLevelName(log.getEffectiveLevel())}.\" |> print"
   ]
  },
  {
   "cell_type": "markdown",
   "id": "92287b3d-33aa-4aad-af04-e92e08709ae8",
   "metadata": {},
   "source": [
    "## Problem domain code"
   ]
  },
  {
   "cell_type": "markdown",
   "id": "639bb8c3-48e4-4b86-abda-16415d7ef20d",
   "metadata": {},
   "source": [
    "### Day 1: Sonar Sweep"
   ]
  },
  {
   "cell_type": "code",
   "execution_count": null,
   "id": "4ac75efe-3bba-4077-8bcb-004748123a6a",
   "metadata": {},
   "outputs": [],
   "source": [
    "\"Day 1\" |> print\n",
    "\n",
    "tests = \"\"\"\n",
    "199\n",
    "200\n",
    "208\n",
    "210\n",
    "200\n",
    "207\n",
    "240\n",
    "269\n",
    "260\n",
    "263\"\"\".strip()"
   ]
  },
  {
   "cell_type": "code",
   "execution_count": null,
   "id": "8a8ef40e-db5b-4a72-b1e7-6d384f74d9b5",
   "metadata": {},
   "outputs": [],
   "source": [
    "def solve_d01pt1(inp):\n",
    "  \"\"\"Solve Day 1 part 1.\"\"\"\n",
    "  inp = inp |> .split() |> map$(int)\n",
    "  outp = pd.Series(inp).diff()[1:].astype(int).tolist()\n",
    "  outp = outp |> filter$(it -> it > 0)\n",
    "  return outp |> list |> len"
   ]
  },
  {
   "cell_type": "code",
   "execution_count": null,
   "id": "f4bcc5f8-f82c-40bd-8d90-3b314413c19b",
   "metadata": {},
   "outputs": [],
   "source": [
    "expected = 7\n",
    "result = solve_d01pt1(tests)\n",
    "aoc.assert_msg(\"test solve day 1 part 1\", result == expected) "
   ]
  },
  {
   "cell_type": "code",
   "execution_count": null,
   "id": "c522cf3f-d94d-4f72-b8b4-c82ef26d5bc1",
   "metadata": {},
   "outputs": [],
   "source": [
    "ins = aoc.read_file_to_str(\"./in/day01.in\")\n",
    "out = solve_d01pt1(ins)\n",
    "f\"day 1 part 1 output: {out}\" |> print"
   ]
  },
  {
   "cell_type": "code",
   "execution_count": null,
   "id": "f27a4526-6f5c-43dd-aceb-9dce4a18c2bb",
   "metadata": {},
   "outputs": [],
   "source": [
    "\"Day 1 part 2\" |> print"
   ]
  },
  {
   "cell_type": "code",
   "execution_count": null,
   "id": "b7c2a2e9-0664-4181-8c5f-f47b5d4ea1d5",
   "metadata": {},
   "outputs": [],
   "source": [
    "def solve_d01pt2(inp):\n",
    "  \"\"\"Solve Day 1 part 2.\"\"\"\n",
    "  inp = inp |> .split() |> map$(int)\n",
    "  outp = pd.Series(inp).rolling(3).sum().diff()[3:].astype(int).tolist()\n",
    "  return outp |> filter$(-> _ > 0) |> list |> len"
   ]
  },
  {
   "cell_type": "code",
   "execution_count": null,
   "id": "e927ce82-5757-430b-a720-7c99178b57cb",
   "metadata": {},
   "outputs": [],
   "source": [
    "expected = 5\n",
    "result = solve_d01pt2(tests)\n",
    "aoc.assert_msg(\"test solve day 1 part 2\", result == expected) "
   ]
  },
  {
   "cell_type": "code",
   "execution_count": null,
   "id": "d4a1f828-4502-43f8-a742-11f1f4d81aef",
   "metadata": {},
   "outputs": [],
   "source": [
    "out = solve_d01pt2(ins)\n",
    "f\"day 1 part 2 output: {out}\" |> print"
   ]
  },
  {
   "cell_type": "markdown",
   "id": "f06375ab-1987-4462-a3db-28e22bf94e67",
   "metadata": {},
   "source": [
    "## Day 2: Dive!"
   ]
  },
  {
   "cell_type": "code",
   "execution_count": null,
   "id": "c1fb7978-6912-4a71-9439-5715f872d11d",
   "metadata": {},
   "outputs": [],
   "source": [
    "\"Day 2\" |> print"
   ]
  },
  {
   "cell_type": "code",
   "execution_count": null,
   "id": "52cb9207-932c-4a80-ab87-5dd7e11ddd81",
   "metadata": {},
   "outputs": [],
   "source": [
    "def iterate(pos, cmd):\n",
    "  HPOS, DEPTH = 0, 1\n",
    "  direct, val = cmd.split(\" \")\n",
    "  val = int(val)\n",
    "  pos = pos.copy()\n",
    "  case direct:\n",
    "    match \"forward\":\n",
    "      pos[HPOS] += val\n",
    "    match \"down\":\n",
    "      pos[DEPTH] += val\n",
    "    match \"up\":\n",
    "      pos[DEPTH] -= val\n",
    "  return pos\n",
    "\n",
    "def solve_d02pt1(inp):\n",
    "  pos = [0, 0]\n",
    "  for cmd in inp.splitlines():\n",
    "    pos = iterate(pos, cmd)\n",
    "  return pos |> reduce$(*)\n",
    "\n",
    "tests = \"\"\"\n",
    "forward 5\n",
    "down 5\n",
    "forward 8\n",
    "up 3\n",
    "down 8\n",
    "forward 2\"\"\".strip()\n",
    "\n",
    "expected = 150\n",
    "result = solve_d02pt1(tests)\n",
    "aoc.assert_msg(\"test solve day 1 part 1\", result == expected)"
   ]
  },
  {
   "cell_type": "code",
   "execution_count": null,
   "id": "ee1eff1d-6b9f-4095-a120-42b513a0cb8c",
   "metadata": {},
   "outputs": [],
   "source": [
    "ins = aoc.read_file_to_str(\"./in/day02.in\")\n",
    "out = solve_d02pt1(ins)\n",
    "f\"day 2 part 1 output: {out}\" |> print"
   ]
  },
  {
   "cell_type": "code",
   "execution_count": null,
   "id": "d129a5fe-6f2e-487d-b0e6-617ab95b88b9",
   "metadata": {},
   "outputs": [],
   "source": [
    "\"Day 2 part 2\" |> print"
   ]
  },
  {
   "cell_type": "code",
   "execution_count": null,
   "id": "d4b20048-48cb-410f-bd67-7a099472fdfc",
   "metadata": {},
   "outputs": [],
   "source": [
    "def iterate2(pos, cmd):\n",
    "  HPOS, DEPTH, AIM = 0, 1, 2\n",
    "  direct, val = cmd.split(\" \")\n",
    "  val = int(val)\n",
    "  pos = pos.copy()\n",
    "  case direct:\n",
    "    match \"forward\":\n",
    "      pos[HPOS] += val\n",
    "      pos[DEPTH] += pos[AIM] * val\n",
    "    match \"down\":\n",
    "      pos[AIM] += val\n",
    "    match \"up\":\n",
    "      pos[AIM] -= val\n",
    "  return pos\n",
    "\n",
    "def solve_d02pt2(inp):\n",
    "  pos = [0, 0, 0]\n",
    "  for cmd in inp.splitlines():\n",
    "    pos = iterate2(pos, cmd)\n",
    "  return pos[0:2] |> reduce$(*)\n",
    "\n",
    "expected = 900\n",
    "result = solve_d02pt2(tests)\n",
    "aoc.assert_msg(\"test solve day 1 part 2\", result == expected)"
   ]
  },
  {
   "cell_type": "code",
   "execution_count": null,
   "id": "f1bbd02e-afd5-4a0a-ae17-626e788a3107",
   "metadata": {},
   "outputs": [],
   "source": [
    "# `ins` remains the same\n",
    "out = solve_d02pt2(ins)\n",
    "f\"day 2 part 2 output: {out}\" |> print"
   ]
  },
  {
   "cell_type": "markdown",
   "id": "ce4580e0-0d03-4182-b04a-625859e13d5e",
   "metadata": {},
   "source": [
    "## Day 3: Binary Diagnostic"
   ]
  },
  {
   "cell_type": "code",
   "execution_count": null,
   "id": "b3e6c10c-5087-4095-8af2-505360be28b0",
   "metadata": {},
   "outputs": [],
   "source": [
    "\"Day 3\" |> print"
   ]
  },
  {
   "cell_type": "code",
   "execution_count": null,
   "id": "1703ec9d-56ad-4bea-9de5-927aeb1aafc4",
   "metadata": {},
   "outputs": [],
   "source": [
    "tests = \"\"\"\n",
    "00100\n",
    "11110\n",
    "10110\n",
    "10111\n",
    "10101\n",
    "01111\n",
    "00111\n",
    "11100\n",
    "10000\n",
    "11001\n",
    "00010\n",
    "01010\n",
    "\"\"\".strip()\n",
    "\n",
    "def T(lst):\n",
    "  \"\"\"Transpose a 2d list.\"\"\"\n",
    "  return [list(i) for i in zip(*lst)]  # transpose\n",
    "\n",
    "def bitlist2int(bitlist):\n",
    "  return int(str.join('', map(str, bitlist)), 2)\n",
    "\n",
    "def solve_d03pt1(ins):\n",
    "  lst = ins.splitlines()\n",
    "  for idx in range(len(lst)):\n",
    "    lst[idx] = map(int, list(lst[idx])) |> list\n",
    "  l = len(lst)\n",
    "  log.debug(lst)\n",
    "  in_t = T(lst)\n",
    "  log.debug(in_t)\n",
    "  blst = []\n",
    "  cblst = []\n",
    "  for col in in_t:\n",
    "    c0, c1 = col.count(0), l - col.count(0)\n",
    "    if c0 > c1:\n",
    "      i = 0\n",
    "      c = 1\n",
    "    else:\n",
    "      i = 1\n",
    "      c = 0\n",
    "    blst.append(i)\n",
    "    cblst.append(c)\n",
    "  log.debug(blst)\n",
    "  bnum = bitlist2int(blst)\n",
    "  cnum = bitlist2int(cblst)\n",
    "  log.debug([bnum, cnum])\n",
    "  return bnum * cnum\n",
    "\n",
    "expected = 198\n",
    "log.setLevel(logging.INFO)\n",
    "result = solve_d03pt1(tests)\n",
    "aoc.assert_msg(\"test solve day 3 part 1\", result == expected)"
   ]
  },
  {
   "cell_type": "code",
   "execution_count": null,
   "id": "46de5d20-ef4e-4bea-82a0-3f077d7d7770",
   "metadata": {},
   "outputs": [],
   "source": [
    "ins = aoc.read_file_to_str(\"./in/day03.in\")\n",
    "out = solve_d03pt1(ins)\n",
    "f\"day 3 part 1 output: {out}\" |> print"
   ]
  },
  {
   "cell_type": "code",
   "execution_count": null,
   "id": "36278e23-96c4-42ea-838d-eb4a0f6a4cc5",
   "metadata": {},
   "outputs": [],
   "source": [
    "\"Day 3 part 2\" |> print"
   ]
  },
  {
   "cell_type": "code",
   "execution_count": null,
   "id": "79efdb9c-b61f-4fa7-aef8-d71a5f217ab9",
   "metadata": {},
   "outputs": [],
   "source": [
    "def solve_d03pt2(ins):\n",
    "  lst = ins.splitlines()\n",
    "  for idx in range(len(lst)):\n",
    "    lst[idx] = map(int, list(lst[idx])) |> list\n",
    "  elemlen = len(lst[0])\n",
    "  lstlen = len(lst)\n",
    "  tlst = T(lst)\n",
    "  log.debug(lst)\n",
    "  log.info(f\"elemlen={elemlen}, lstlen={lstlen}\")\n",
    "  olst = copy.deepcopy(lst)\n",
    "  for i in range(elemlen):\n",
    "    sm1 = tlst[i].count(1)\n",
    "    sm0 = lstlen - sm1\n",
    "    if sm1 >= sm0:\n",
    "      trg = 1\n",
    "    else:\n",
    "      trg = 0\n",
    "    log.debug(f\"oxy iter-#{i} lstlen={lstlen} trg={trg}\")\n",
    "    lst = lst |> filter$(-> _[i] == trg) |> list\n",
    "    tlst = T(lst)\n",
    "    lstlen = len(lst)\n",
    "    if lstlen <= 1:\n",
    "      oxyrat_lst = lst[0]\n",
    "      oxyrat = bitlist2int(oxyrat_lst)\n",
    "      log.debug(f\"oxyrat={oxyrat_lst} => {oxyrat}\")\n",
    "      break\n",
    "  lst = olst\n",
    "  tlst = T(olst)\n",
    "  lstlen = len(lst)\n",
    "  for i in range(elemlen):\n",
    "    sm1 = tlst[i].count(1)\n",
    "    sm0 = lstlen - sm1\n",
    "    if sm1 >= sm0:\n",
    "      trg = 0\n",
    "    else:\n",
    "      trg = 1\n",
    "    log.debug(f\"co2 iter-#{i} lstlen={lstlen} trg={trg}\")\n",
    "    lst = lst |> filter$(-> _[i] == trg) |> list\n",
    "    tlst = T(lst)\n",
    "    lstlen = len(lst)\n",
    "    if lstlen <= 1:\n",
    "      co2rat_lst = lst[0]\n",
    "      co2rat = bitlist2int(co2rat_lst)\n",
    "      log.debug(f\"co2rat={co2rat_lst} => {co2rat}\")\n",
    "      break\n",
    "  return oxyrat * co2rat\n",
    "\n",
    "expected = 230\n",
    "log.setLevel(logging.INFO)\n",
    "result = solve_d03pt2(tests)\n",
    "aoc.assert_msg(\"test solve day 3 part 2\", result == expected)"
   ]
  },
  {
   "cell_type": "code",
   "execution_count": null,
   "id": "1d0b2693-e151-410a-88e6-af6800a7c2a4",
   "metadata": {},
   "outputs": [],
   "source": [
    "out = solve_d03pt2(ins)\n",
    "f\"day 3 part 2 output: {out}\" |> print"
   ]
  },
  {
   "cell_type": "markdown",
   "id": "dcbcbb1b-98e0-4e27-aa74-a7067ddb96ef",
   "metadata": {},
   "source": [
    "## Day 5: Hydrothermal Venture"
   ]
  },
  {
   "cell_type": "code",
   "execution_count": null,
   "id": "82c654e4-388e-4c02-a3d9-6250874ac768",
   "metadata": {},
   "outputs": [],
   "source": [
    "\"Day 5\" |> print"
   ]
  },
  {
   "cell_type": "code",
   "execution_count": null,
   "id": "120c68ec-9033-4fde-a787-674484a49cc0",
   "metadata": {},
   "outputs": [],
   "source": [
    "tests = \"\"\"\n",
    "0,9 -> 5,9\n",
    "8,0 -> 0,8\n",
    "9,4 -> 3,4\n",
    "2,2 -> 2,1\n",
    "7,0 -> 7,4\n",
    "6,4 -> 2,0\n",
    "0,9 -> 2,9\n",
    "3,4 -> 1,4\n",
    "0,0 -> 8,8\n",
    "5,5 -> 8,2\n",
    "\"\"\".strip()"
   ]
  },
  {
   "cell_type": "code",
   "execution_count": null,
   "id": "7ffd5443-7a69-4c32-84cd-d3aa2f2d819e",
   "metadata": {},
   "outputs": [],
   "source": [
    "def solve_d05pt1(ins):\n",
    "  lines = ins.splitlines() |> map$(-> _.split(\" -> \")) |> list\n",
    "  for lnidx in range(len(lines)):\n",
    "    for ptidx in range(2):\n",
    "      lines[lnidx][ptidx] = lines[lnidx][ptidx].split(\",\") |> map$(int) |> list\n",
    "  log.trace(lines)\n",
    "  grid = defaultdict(int)\n",
    "  for line in lines:\n",
    "    ptst, pten = line\n",
    "    if ptst[0] == pten[0]:  # horiz\n",
    "      log.trace(f\"horiz line {line}\")\n",
    "      x = ptst[0]\n",
    "      for y in range(min(ptst[1], pten[1]), max(ptst[1], pten[1])+1):\n",
    "        grid[tuple([x,y])] += 1\n",
    "    elif ptst[1] == pten[1]:  # vert\n",
    "      log.trace(f\"vert line {line}\")\n",
    "      y = ptst[1]\n",
    "      for x in range(min(ptst[0], pten[0]), max(ptst[0], pten[0])+1):\n",
    "        grid[tuple([x,y])] += 1\n",
    "    else:\n",
    "      pass\n",
    "  log.trace(grid)\n",
    "  intersects = grid.values() |> filter$(-> _ > 1) |> list |> len\n",
    "  log.debug(f\"intersects-#={intersects}\")\n",
    "  return intersects\n",
    "\n",
    "expected = 5\n",
    "log.setLevel(logging.INFO)\n",
    "result = solve_d05pt1(tests)\n",
    "aoc.assert_msg(\"test solve day 5 part 1\", result == expected)"
   ]
  },
  {
   "cell_type": "code",
   "execution_count": null,
   "id": "ab7cf43c-2f89-4e3c-9796-087608c93d36",
   "metadata": {},
   "outputs": [],
   "source": [
    "ins = aoc.read_file_to_str(\"./in/day05.in\")\n",
    "out = solve_d05pt1(ins)\n",
    "f\"day 5 part 1 output: {out}\" |> print"
   ]
  },
  {
   "cell_type": "code",
   "execution_count": null,
   "id": "2ae831af-ea68-4d93-83c8-4d64c9f2eb90",
   "metadata": {},
   "outputs": [],
   "source": [
    "\"Day 5 part 2\" |> print"
   ]
  },
  {
   "cell_type": "code",
   "execution_count": null,
   "id": "9b05a774-c51d-4b29-af44-769a307341cc",
   "metadata": {},
   "outputs": [],
   "source": [
    "def scan_grid(lines):\n",
    "  grid = defaultdict(int)\n",
    "  for line in lines:\n",
    "    ptst, pten = line\n",
    "    if ptst[0] == pten[0] and ptst[1] == pten[1]:  # point\n",
    "      grid[tuple(ptst)] += 1\n",
    "    elif ptst[0] == pten[0]:  # horiz\n",
    "      log.trace(f\"horiz line {line}\")\n",
    "      x = ptst[0]\n",
    "      for y in range(min(ptst[1], pten[1]), max(ptst[1], pten[1])+1):\n",
    "        grid[tuple([x,y])] += 1\n",
    "    elif ptst[1] == pten[1]:  # vert\n",
    "      log.trace(f\"vert line {line}\")\n",
    "      y = ptst[1]\n",
    "      for x in range(min(ptst[0], pten[0]), max(ptst[0], pten[0])+1):\n",
    "        grid[tuple([x,y])] += 1\n",
    "    else:  # diagonal\n",
    "      line = sorted(line, key=lambda it: it[0])\n",
    "      ptst, pten = line\n",
    "      if ptst[1] > pten[1]:\n",
    "        ystp = -1\n",
    "      else:\n",
    "        ystp = 1\n",
    "      log.trace(f\"diag line {line}\")\n",
    "      y = ptst[1]\n",
    "      for x in range(ptst[0], pten[0]+1):\n",
    "        log.trace(f\"set diag line-pt {[x,y]}\") \n",
    "        grid[tuple([x,y])] += 1\n",
    "        y += ystp\n",
    "  log.trace(grid)\n",
    "  return grid\n",
    "  \n",
    "def solve_d05pt2(ins):\n",
    "  lines = ins.splitlines() |> map$(-> _.split(\" -> \")) |> list\n",
    "  for lnidx in range(len(lines)):\n",
    "    for ptidx in range(2):\n",
    "      lines[lnidx][ptidx] = lines[lnidx][ptidx].split(\",\") |> map$(int) |> list\n",
    "  log.trace(lines)\n",
    "  grid = scan_grid(lines)\n",
    "  intersects = grid.values() |> filter$(-> _ > 1) |> list |> len\n",
    "  log.debug(f\"intersects-#={intersects}\")\n",
    "  #log.debug(f\"grid={grid}\")\n",
    "  return intersects\n",
    "\n",
    "expected = 12\n",
    "log.setLevel(logging.INFO)\n",
    "result = solve_d05pt2(tests)\n",
    "aoc.assert_msg(\"test solve day 5 part 2\", result == expected)"
   ]
  },
  {
   "cell_type": "code",
   "execution_count": null,
   "id": "70b095ca-7a88-42e8-a1e7-64090dbe28bc",
   "metadata": {},
   "outputs": [],
   "source": [
    "out = solve_d05pt2(ins)\n",
    "f\"day 2 part 2 output: {out}\" |> print"
   ]
  },
  {
   "cell_type": "markdown",
   "id": "2ac808a6-bf57-4509-b82c-418ef3bc2c9a",
   "metadata": {},
   "source": [
    "## Day 6: Lanternfish\n",
    "DE: [Nikolaus von Myra](https://de.wikipedia.org/wiki/Nikolaus_von_Myra)  \\\n",
    "EN: [Saint Nicholas](https://en.wikipedia.org/wiki/Saint_Nicholas)  \\\n",
    "ES: [Nicolás de Bari](https://es.wikipedia.org/wiki/Nicol%C3%A1s_de_Bari)"
   ]
  },
  {
   "cell_type": "code",
   "execution_count": null,
   "id": "77746605-9f13-4fa7-b090-98913810067f",
   "metadata": {},
   "outputs": [],
   "source": [
    "\"Day 6\" |> print"
   ]
  },
  {
   "cell_type": "code",
   "execution_count": null,
   "id": "99d27ef6-aad8-40d0-848c-64ca8ea02b78",
   "metadata": {},
   "outputs": [],
   "source": [
    "tests = \"3,4,3,1,2\""
   ]
  },
  {
   "cell_type": "code",
   "execution_count": null,
   "id": "131172ef-75a7-4a94-98ca-ef1787b48a05",
   "metadata": {},
   "outputs": [],
   "source": [
    "def solve_d06pt1(ins, n):\n",
    "  \"\"\"Lanternfish, \"brute force\".\"\"\"\n",
    "  cells = ins.split(\",\") |> map$(int) |> list\n",
    "  log.trace(f\"lfish={cells}\")\n",
    "  log.debug(f\"lfish-num={len(cells)}\")\n",
    "  tms = time.time()\n",
    "  for itr in range(n):\n",
    "    log.debug(f\"iter-#{itr} took {round(time.time()-tms, 2)}s len={len(cells)}\")\n",
    "    toappend = 0\n",
    "    for idx in range(len(cells)):\n",
    "      case cells[idx]:\n",
    "        match 0:\n",
    "          toappend += 1\n",
    "          cells[idx] = 6\n",
    "      else:\n",
    "        cells[idx] -= 1\n",
    "    cells = cells + [8] * toappend\n",
    "    log.trace(f\"iter#{itr} lfish={cells}\")\n",
    "  log.info(f\"End iter-#{itr} took {round(time.time()-tms, 2)}s len={len(cells)}\")\n",
    "  return len(cells)\n",
    "\n",
    "expected = [[18, 26], [80,5934]]\n",
    "log.setLevel(logging.INFO)\n",
    "for e in expected:\n",
    "  n, expct = e\n",
    "  result = solve_d06pt1(tests, n)\n",
    "  aoc.assert_msg(f\"test solve day 6 part 1; expect fish={expct} <= n={n} found {result}\", result == expct)"
   ]
  },
  {
   "cell_type": "code",
   "execution_count": null,
   "id": "6b8808ba-3d84-44bc-bc3c-b05c84e410a3",
   "metadata": {},
   "outputs": [],
   "source": [
    "ins = aoc.read_file_to_str(\"./in/day06.in\")\n",
    "out = solve_d06pt1(ins, 80)\n",
    "f\"day 6 part 1 output: {out}\" |> print"
   ]
  },
  {
   "cell_type": "code",
   "execution_count": null,
   "id": "1d8a2a97-a8d5-4b33-873e-4e3266b50bda",
   "metadata": {},
   "outputs": [],
   "source": [
    "\"Day 6 part 2\" |> print"
   ]
  },
  {
   "cell_type": "code",
   "execution_count": null,
   "id": "013f1d71-bfcb-4cba-b104-5b12331e4a87",
   "metadata": {},
   "outputs": [],
   "source": [
    "def solve_d06pt2(ins, n):\n",
    "  \"\"\"Lanternfish, just keep counting cellstates-number.\"\"\"\n",
    "  tms = time.time()\n",
    "  cells = ins.split(\",\") |> map$(int) |> list\n",
    "  log.debug(f\"lfish-num={len(cells)}\")\n",
    "  cellsts = []\n",
    "  for idx in range(9):\n",
    "    cellsts.append(cells.count(idx))\n",
    "  log.debug(f\"initial cellstates={cellsts}\")\n",
    "  for itr in range(n):\n",
    "    toappend, cellsts = cellsts[0], cellsts[1:]\n",
    "    assert len(cellsts) == 8, f\"len={len(cellsts)}\"\n",
    "    cellsts[6] += toappend\n",
    "    cellsts = cellsts + [toappend]\n",
    "    if itr % 10 == 0:\n",
    "      #log.info(f\"iter-#{itr} count={sum(cellsts)}. cellstates={cellsts}. took {int(time.time()-tms)}s\")\n",
    "      log.debug(f\"iter-#{itr} count={sum(cellsts)}. took {int(time.time()-tms)}s\")\n",
    "  log.info(f\"iter-#{itr} ends. took {round(time.time()-tms, 4)}s\")\n",
    "  return sum(cellsts)"
   ]
  },
  {
   "cell_type": "code",
   "execution_count": null,
   "id": "3f5a5f11-b685-4c54-bdf2-22823d2bc6ec",
   "metadata": {},
   "outputs": [],
   "source": [
    "expected = [[256, 26984457539]]\n",
    "log.setLevel(logging.INFO)\n",
    "for e in expected:\n",
    "  n, expct = e\n",
    "  result = solve_d06pt2(tests, n)\n",
    "  aoc.assert_msg(f\"test solve day 6 part 1; expect fish={expct} <= n={n} found {result}\", result == expct)"
   ]
  },
  {
   "cell_type": "code",
   "execution_count": null,
   "id": "d397f7f4-6d4b-44da-ad97-a41dfb146b7d",
   "metadata": {},
   "outputs": [],
   "source": [
    "out = solve_d06pt2(ins, 256)\n",
    "f\"day 6 part 2 output: {out}\" |> print"
   ]
  },
  {
   "cell_type": "markdown",
   "id": "0fac85b6-065d-4b83-b8fa-1d9163c4d50d",
   "metadata": {},
   "source": [
    "## Day 7: The Treachery of Whales"
   ]
  },
  {
   "cell_type": "code",
   "execution_count": null,
   "id": "83b18da3-a481-41d4-b88f-534e7925a2df",
   "metadata": {},
   "outputs": [],
   "source": [
    "\"Day 7\" |> print"
   ]
  },
  {
   "cell_type": "code",
   "execution_count": null,
   "id": "76369600-5de0-407c-b8cd-dce869c30517",
   "metadata": {},
   "outputs": [],
   "source": [
    "tests = \"16,1,2,0,4,2,7,1,2,14\""
   ]
  },
  {
   "cell_type": "code",
   "execution_count": null,
   "id": "02ab9ea5-460c-4f77-ab0b-4e74031289f8",
   "metadata": {},
   "outputs": [],
   "source": [
    "def solve_d07pt1(ins):\n",
    "  \"\"\"Day 7 pt1 solution.\"\"\"\n",
    "  ins = ins.split(\",\") |> map$(int) |> list\n",
    "  mn, mx = min(ins), max(ins)\n",
    "  fc_min = 1e20\n",
    "  for trg in range(mn, mx+1):\n",
    "    fc = 0\n",
    "    for xpos in ins:\n",
    "      fc += abs(xpos - trg)\n",
    "    if fc < fc_min:\n",
    "      log.debug(f\"pos={trg}, new min fuelcost={fc}\")\n",
    "      fc_min = fc\n",
    "  return fc_min\n",
    "\n",
    "expected = 37\n",
    "log.setLevel(logging.INFO)\n",
    "result = solve_d07pt1(tests)\n",
    "aoc.assert_msg(f\"test solve day 7 part 1; expected={expct}, found {result}\", result == expected)"
   ]
  },
  {
   "cell_type": "code",
   "execution_count": null,
   "id": "91e81094-4bf1-4b31-994f-3120f2cbdfa7",
   "metadata": {},
   "outputs": [],
   "source": [
    "ins = aoc.read_file_to_str(\"./in/day07.in\")\n",
    "out = solve_d07pt1(ins)\n",
    "f\"day 7 part 1 output: {out}\" |> print"
   ]
  },
  {
   "cell_type": "code",
   "execution_count": null,
   "id": "c5d00b05-880c-4d52-8894-1a700a5178a8",
   "metadata": {},
   "outputs": [],
   "source": [
    "def solve_d07pt2(ins):\n",
    "  \"\"\"Day 7 pt2 solution.\"\"\"\n",
    "  ins = ins.split(\",\") |> map$(int) |> list\n",
    "  mn, mx = min(ins), max(ins)\n",
    "  fc_min = 1e20\n",
    "  cst = 0\n",
    "  seq = []\n",
    "  for idx in range(0, mx+1): # costs per step\n",
    "    seq.append(cst)\n",
    "    cst += 1\n",
    "  costseq = []\n",
    "  for idx in range(0, mx+1): # costs for distance\n",
    "    #log.debug(f\"dst={idx} costseq={seq[0:idx+1]}\")\n",
    "    costseq.append(sum(seq[0:idx+1]))\n",
    "  log.debug(seq)\n",
    "  for trg in range(mn, mx+1):\n",
    "    fc = 0\n",
    "    fclst = []\n",
    "    for xpos in ins:\n",
    "      dist = abs(xpos - trg)\n",
    "      fclst.append(costseq[dist])\n",
    "      fc += costseq[dist]\n",
    "    log.debug(f\"  pos={trg}, fuelcosts={fclst}\")\n",
    "    if fc < fc_min:\n",
    "      log.debug(f\"pos={trg}, new min fuelcost={fc}\")\n",
    "      fc_min = fc\n",
    "  return fc_min\n",
    "\n",
    "expected = 168\n",
    "log.setLevel(logging.INFO)\n",
    "result = solve_d07pt2(tests)\n",
    "aoc.assert_msg(f\"test solve day 7 part 2; expected={expected}, found {result}\", result == expected)"
   ]
  },
  {
   "cell_type": "code",
   "execution_count": null,
   "id": "239b0d5e-75f8-4efd-a4c7-67b26dd8371f",
   "metadata": {},
   "outputs": [],
   "source": [
    "out = solve_d07pt2(ins)\n",
    "f\"day 7 part 2 output: {out}\" |> print"
   ]
  },
  {
   "cell_type": "markdown",
   "id": "8df6e435-a9a2-45d0-8adb-844104479c1b",
   "metadata": {},
   "source": [
    "## Day 8: Seven Segment Search"
   ]
  },
  {
   "cell_type": "code",
   "execution_count": null,
   "id": "fc77b3d3-6830-45d6-9392-fdafb370b91e",
   "metadata": {},
   "outputs": [],
   "source": [
    "\"Day 8\" |> print"
   ]
  },
  {
   "cell_type": "code",
   "execution_count": null,
   "id": "696fe593-96bd-4087-80e8-06ac1388a76d",
   "metadata": {},
   "outputs": [],
   "source": [
    "segments = \"\"\" \n",
    "  0:      1:      2:      3:      4:\n",
    " aaaa    ....    aaaa    aaaa    ....\n",
    "b    c  .    c  .    c  .    c  b    c\n",
    "b    c  .    c  .    c  .    c  b    c\n",
    " ....    ....    dddd    dddd    dddd\n",
    "e    f  .    f  e    .  .    f  .    f\n",
    "e    f  .    f  e    .  .    f  .    f\n",
    " gggg    ....    gggg    gggg    ....\n",
    "\n",
    "  5:      6:      7:      8:      9:\n",
    " aaaa    aaaa    aaaa    aaaa    aaaa\n",
    "b    .  b    .  .    c  b    c  b    c\n",
    "b    .  b    .  .    c  b    c  b    c\n",
    " dddd    dddd    ....    dddd    dddd\n",
    ".    f  e    f  .    f  e    f  .    f\n",
    ".    f  e    f  .    f  e    f  .    f\n",
    " gggg    gggg    ....    gggg    gggg\n",
    "\"\"\".strip()\n",
    " \n",
    "d = {\n",
    "  0: [\"a\",\"b\",\"c\",\"e\",\"f\",\"g\"],\n",
    "  1: [\"c\",\"f\"],\n",
    "  2: [\"a\",\"c\",\"d\",\"e\",\"g\"],\n",
    "  3: [\"a\",\"c\",\"d\",\"f\",\"g\"],\n",
    "  4: [\"b\",\"c\",\"d\",\"f\"],\n",
    "  5: [\"a\",\"b\",\"d\",\"f\",\"g\"],\n",
    "  6: [\"a\",\"b\",\"d\",\"e\",\"f\",\"g\"],\n",
    "  7: [\"a\",\"c\",\"f\"],\n",
    "  8: [\"a\",\"b\",\"c\",\"d\",\"e\",\"f\",\"g\"],\n",
    "  9: [\"a\",\"b\",\"c\",\"d\",\"f\",\"g\"],\n",
    "}\n",
    "\n",
    "d2 = {\n",
    "  1: [\"c\",\"f\"],\n",
    "  7: [\"a\",\"c\",\"f\"],\n",
    "  4: [\"b\",\"c\",\"d\",\"f\"],\n",
    "  2: [\"a\",\"c\",\"d\",\"e\",\"g\"],\n",
    "  3: [\"a\",\"c\",\"d\",\"f\",\"g\"],\n",
    "  5: [\"a\",\"b\",\"d\",\"f\",\"g\"],\n",
    "  0: [\"a\",\"b\",\"c\",\"e\",\"f\",\"g\"],\n",
    "  6: [\"a\",\"b\",\"d\",\"e\",\"f\",\"g\"],\n",
    "  9: [\"a\",\"b\",\"c\",\"d\",\"f\",\"g\"],\n",
    "  8: [\"a\",\"b\",\"c\",\"d\",\"e\",\"f\",\"g\"],\n",
    "}"
   ]
  },
  {
   "cell_type": "code",
   "execution_count": null,
   "id": "83f74aaa-7a94-413d-8a8f-1f5a1ac615cd",
   "metadata": {},
   "outputs": [],
   "source": [
    "tests1 = \"\"\"acedgfb cdfbe gcdfa fbcad dab cefabd cdfgeb eafb cagedb ab | cdfeb fcadb cdfeb cdbaf\"\"\".strip()\n",
    "\n",
    "tests = \"\"\"\n",
    "be cfbegad cbdgef fgaecd cgeb fdcge agebfd fecdb fabcd edb | fdgacbe cefdb cefbgd gcbe\n",
    "edbfga begcd cbg gc gcadebf fbgde acbgfd abcde gfcbed gfec | fcgedb cgb dgebacf gc\n",
    "fgaebd cg bdaec gdafb agbcfd gdcbef bgcad gfac gcb cdgabef | cg cg fdcagb cbg\n",
    "fbegcd cbd adcefb dageb afcb bc aefdc ecdab fgdeca fcdbega | efabcd cedba gadfec cb\n",
    "aecbfdg fbg gf bafeg dbefa fcge gcbea fcaegb dgceab fcbdga | gecf egdcabf bgf bfgea\n",
    "fgeab ca afcebg bdacfeg cfaedg gcfdb baec bfadeg bafgc acf | gebdcfa ecba ca fadegcb\n",
    "dbcfg fgd bdegcaf fgec aegbdf ecdfab fbedc dacgb gdcebf gf | cefg dcbef fcge gbcadfe\n",
    "bdfegc cbegaf gecbf dfcage bdacg ed bedf ced adcbefg gebcd | ed bcgafe cdgba cbgef\n",
    "egadfb cdbfeg cegd fecab cgb gbdefca cg fgcdab egfdb bfceg | gbdfcae bgc cg cgb\n",
    "gcafb gcf dcaebfg ecagb gf abcdeg gaef cafbge fdbac fegbdc | fgae cfgab fg bagce\n",
    "\"\"\".strip()"
   ]
  },
  {
   "cell_type": "code",
   "execution_count": null,
   "id": "15fab1ef-d857-4903-a0c3-898e9208c0df",
   "metadata": {},
   "outputs": [],
   "source": [
    "def solve_d08pt1(ins):\n",
    "  \"\"\"Day 8 pt1 solution.\"\"\"\n",
    "  ins = ins.splitlines() # |> filter$(-> \"|\" not in _) |> list\n",
    "  for idx in range(len(ins)):\n",
    "    ins[idx] = ins[idx].split(\" | \")[1]\n",
    "  ct = 0\n",
    "  for ln in ins:\n",
    "    for grp in ln.split(\" \"):\n",
    "      if len(grp) in [2, 4, 3, 7]:\n",
    "        ct += 1\n",
    "  log.trace([ins, ct])\n",
    "  return ct\n",
    "\n",
    "expected = 26\n",
    "log.setLevel(logging.DEBUG)\n",
    "#log.setLevel(logging.INFO)\n",
    "result = solve_d08pt1(tests)\n",
    "aoc.assert_msg(f\"test solve day 8 part 1; expected={expected}, found {result}\", result == expected)"
   ]
  },
  {
   "cell_type": "code",
   "execution_count": null,
   "id": "ebd878de-745f-4dc7-8354-48bef509a96d",
   "metadata": {},
   "outputs": [],
   "source": [
    "ins = aoc.read_file_to_str(\"./in/day08.in\")\n",
    "out = solve_d08pt1(ins)\n",
    "f\"day 8 part 1 output: {out}\" |> print"
   ]
  },
  {
   "cell_type": "code",
   "execution_count": null,
   "id": "fca29421-6b7e-4fab-ae19-872c079eed17",
   "metadata": {},
   "outputs": [],
   "source": [
    "def solve_d08pt2(ins):\n",
    "  \"\"\"Day 8 pt2 solution.\"\"\"\n",
    "  return None\n",
    "\n",
    "expected1 = 5353\n",
    "expected = 61229\n",
    "#log.setLevel(logging.DEBUG)\n",
    "#log.setLevel(logging.INFO)\n",
    "#result = solve_d08pt2(tests1)\n",
    "#result = solve_d08pt2(tests)\n",
    "#aoc.assert_msg(f\"test solve day 7 part 2; expected={expected}, found {result}\", result == expected)"
   ]
  },
  {
   "cell_type": "markdown",
   "id": "7ec1cadc-05fc-4452-babc-e311daa67583",
   "metadata": {},
   "source": [
    "## Day 9: Smoke Basin"
   ]
  },
  {
   "cell_type": "code",
   "execution_count": null,
   "id": "a0c31d82-5d84-4622-b0ce-6678470fe9af",
   "metadata": {},
   "outputs": [],
   "source": [
    "\"Day 9\" |> print\n",
    "\n",
    "tests = \"\"\"\n",
    "2199943210\n",
    "3987894921\n",
    "9856789892\n",
    "8767896789\n",
    "9899965678\n",
    "\"\"\".strip()"
   ]
  },
  {
   "cell_type": "code",
   "execution_count": null,
   "id": "b6b8552b-d1e2-4959-af07-7824d78c7aa1",
   "metadata": {},
   "outputs": [],
   "source": [
    "def solve_d09pt1(ins):\n",
    "  \"\"\"Day 9 pt1 solution.\"\"\"\n",
    "  ins = ins.splitlines() |> map$(-> list(_)) |> list\n",
    "  xdim , ydim = len(ins[0]), len(ins)\n",
    "  for y in range(ydim):\n",
    "    for x in range(xdim):\n",
    "      ins[y][x] = int(ins[y][x])\n",
    "  log.debug(f\"grid[{xdim},{ydim}]...!\")\n",
    "  log.trace(f\"grid[{xdim},{ydim}]\")\n",
    "  locminsum = 0\n",
    "  for y in range(ydim):\n",
    "    for x in range(xdim):\n",
    "      pt = ins[y][x]\n",
    "      nbs = aoc.get_neighbors(ins, x, y) |> filter$(-> _ != \"\") |> list\n",
    "      #log.trace(f\"pt[{x},{y}]={pt} neibs={nbs}\")\n",
    "      #all(flag == 0 for (_, _, flag) in items)\n",
    "      if pt < min(nbs):\n",
    "        log.trace(f\"pt[{x},{y}]={pt} IS locmin, neibs={nbs}\")\n",
    "        locminsum += pt+1\n",
    "  log.info(f\"rc locminsum={locminsum}\")\n",
    "  return locminsum\n",
    "\n",
    "expected = 15\n",
    "log.setLevel(logging.DEBUG)\n",
    "#log.setLevel(logging.INFO)\n",
    "result = solve_d09pt1(tests)\n",
    "aoc.assert_msg(f\"test solve day 8 part 1; expected={expected}, found {result}\", result == expected)"
   ]
  },
  {
   "cell_type": "code",
   "execution_count": null,
   "id": "6b13ddea-1834-41eb-b478-d08e3cb96034",
   "metadata": {},
   "outputs": [],
   "source": [
    "ins = aoc.read_file_to_str(\"./in/day09.in\")\n",
    "out = solve_d09pt1(ins)\n",
    "f\"day 9 part 1 output: {out}\" |> print"
   ]
  },
  {
   "cell_type": "code",
   "execution_count": null,
   "id": "d4a8fdf6-35fe-4d7f-9429-4c356328597a",
   "metadata": {},
   "outputs": [],
   "source": [
    "\"Day 9 part 2\" |> print\n",
    "\n",
    "def get_locmins(ins):\n",
    "  xdim , ydim = len(ins[0]), len(ins)\n",
    "  locmins = []\n",
    "  for y in range(ydim):\n",
    "    for x in range(xdim):\n",
    "      pt = ins[y][x]\n",
    "      nbs = aoc.get_neighbors(ins, x, y) |> filter$(-> _ != \"\") |> list\n",
    "      #log.trace(f\"pt[{x},{y}]={pt} neibs={nbs}\")\n",
    "      if pt != \"\" and pt < min(nbs):\n",
    "        log.trace(f\"pt[{x},{y}]={pt} IS locmin, neibs={nbs}\")\n",
    "        locmins.append( tuple([x,y]) )\n",
    "  log.debug(f\"rc locmins={locmins}\")\n",
    "  return locmins\n",
    "\n",
    "def get_neib_coords(strlist: List[str], x: int, y: int) -> List[str]:\n",
    "  \"\"\"Get a list of 4 neighbors of cell. May return '' as element if boundary.\"\"\"\n",
    "  max_y_idx = len(strlist) - 1\n",
    "  max_x_idx = len(strlist[0]) - 1\n",
    "  nbs = []\n",
    "  if y > 0:\n",
    "    nbs.append(tuple([x, y-1]))\n",
    "  if x > 0:\n",
    "    nbs.append(tuple([x-1, y]))\n",
    "  if y < max_y_idx:\n",
    "    nbs.append(tuple([x, y+1]))\n",
    "  if x < max_x_idx:\n",
    "    nbs.append(tuple([x+1, y]))\n",
    "  return nbs\n",
    "\n",
    "def solve_d09pt2(ins):\n",
    "  \"\"\"Day 9 pt1 solution.\"\"\"\n",
    "  ins = ins.splitlines() |> map$(-> list(_)) |> list\n",
    "  xdim , ydim = len(ins[0]), len(ins)\n",
    "  for y in range(ydim):\n",
    "    for x in range(xdim):\n",
    "      val = int(ins[y][x])\n",
    "      if val < 9:\n",
    "        ins[y][x] = val\n",
    "      else:\n",
    "        ins[y][x] = 9\n",
    "  log.debug(f\"grid[{xdim},{ydim}]...!\")\n",
    "  log.trace(f\"grid[{xdim},{ydim}]\")\n",
    "  basinsize_lst = []\n",
    "  for lmin in get_locmins(ins):\n",
    "    basin = set()\n",
    "    to_scan = [lmin]\n",
    "    minval = ins[lmin[1]][lmin[0]]\n",
    "    while(len(to_scan)>0):\n",
    "      pt = to_scan[0]\n",
    "      basin.add(pt)\n",
    "      to_scan = to_scan[1:]\n",
    "      x,y = pt[0], pt[1]\n",
    "      ptval = ins[y][x]\n",
    "      nb_coords = get_neib_coords(ins, x, y)\n",
    "      nb_coords = nb_coords |> filter$(-> _ not in basin and ins[_[1]][_[0]] != \"\" and ins[_[1]][_[0]] < 9) |> list\n",
    "      nb_coords = nb_coords |> filter$(-> _ not in to_scan) |> list\n",
    "      to_scan += nb_coords\n",
    "      log.trace(f\"trg-pt[{x},{y}]={ptval} len(toscan)={len(to_scan)}, nb-coords={nb_coords}\")\n",
    "    log.debug(f\"lmin-pt[{lmin}]={minval} basin-len={len(basin)}\")\n",
    "    basinsize_lst.append(len(basin))\n",
    "  basinsize_lst = sorted(basinsize_lst)\n",
    "  log.debug(f\"basinsize_lst={basinsize_lst}, {basinsize_lst[-3:]}\")\n",
    "  return reduce((*),basinsize_lst[-3:])\n",
    "\n",
    "expected = 1134\n",
    "#log.setLevel(logging.DEBUG)\n",
    "log.setLevel(logging.INFO)\n",
    "result = solve_d09pt2(tests)\n",
    "aoc.assert_msg(f\"test solve day 8 part 1; expected={expected}, found {result}\", result == expected)"
   ]
  },
  {
   "cell_type": "code",
   "execution_count": null,
   "id": "db415601-1a38-4e1c-8b7a-b16aeddc7076",
   "metadata": {},
   "outputs": [],
   "source": [
    "out = solve_d09pt2(ins)\n",
    "f\"day 9 part 2 output: {out}\" |> print"
   ]
  },
  {
   "cell_type": "code",
   "execution_count": null,
   "id": "c88436ed-8525-4b1a-8e69-dd7c3fd1c8a2",
   "metadata": {},
   "outputs": [],
   "source": []
  }
 ],
 "metadata": {
  "kernelspec": {
   "display_name": "Coconut",
   "language": "coconut",
   "name": "coconut"
  },
  "language_info": {
   "codemirror_mode": {
    "name": "python",
    "version": 3
   },
   "file_extension": ".coco",
   "mimetype": "text/x-python3",
   "name": "coconut",
   "pygments_lexer": "coconut",
   "version": "1.5.0"
  }
 },
 "nbformat": 4,
 "nbformat_minor": 5
}
