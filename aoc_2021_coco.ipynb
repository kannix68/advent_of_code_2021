{
 "cells": [
  {
   "cell_type": "markdown",
   "id": "4bc2c96b-06b4-4cd3-a7f1-90748a097356",
   "metadata": {},
   "source": [
    "# Advent of Code 2021\n",
    "\n",
    "This solution (Jupyter notebook; coconut 1.5.0 on python 3.7.11) by kannix68, @ 2021-12.  \\\n",
    "Using anaconda distro, conda v4.10.3, and coconut language. installation on MacOS v10.14.6 \"Mojave\"."
   ]
  },
  {
   "cell_type": "code",
   "execution_count": null,
   "id": "f05b3cb2-6ebd-411b-9617-dc971d9adafe",
   "metadata": {},
   "outputs": [],
   "source": [
    "import sys\n",
    "import logging\n",
    "import itertools\n",
    "import re\n",
    "\n",
    "from collections import defaultdict\n",
    "\n",
    "import numpy as np\n",
    "import pandas as pd\n",
    "\n",
    "import pylib.aochelper as aoc\n",
    "#from pylib.aochelper import map_list as mapl\n",
    "#from pylib.aochelper import filter_list as filterl\n",
    "\n",
    "f\"Python version: {sys.version}\" |> print\n",
    "f\"Version info: {sys.version_info}\" |> print\n",
    "\n",
    "log = aoc.getLogger(__name__)\n",
    "f\"Initial log-level={aoc.getLogLevelName(log.getEffectiveLevel())}.\" |> print"
   ]
  },
  {
   "cell_type": "markdown",
   "id": "92287b3d-33aa-4aad-af04-e92e08709ae8",
   "metadata": {},
   "source": [
    "## Problem domain code"
   ]
  },
  {
   "cell_type": "markdown",
   "id": "639bb8c3-48e4-4b86-abda-16415d7ef20d",
   "metadata": {},
   "source": [
    "### Day 1: Sonar Sweep"
   ]
  },
  {
   "cell_type": "code",
   "execution_count": null,
   "id": "4ac75efe-3bba-4077-8bcb-004748123a6a",
   "metadata": {},
   "outputs": [],
   "source": [
    "\"Day 1\" |> print\n",
    "\n",
    "tests = \"\"\"\n",
    "199\n",
    "200\n",
    "208\n",
    "210\n",
    "200\n",
    "207\n",
    "240\n",
    "269\n",
    "260\n",
    "263\"\"\".strip()"
   ]
  },
  {
   "cell_type": "code",
   "execution_count": null,
   "id": "8a8ef40e-db5b-4a72-b1e7-6d384f74d9b5",
   "metadata": {},
   "outputs": [],
   "source": [
    "def solve_d01pt1(inp):\n",
    "  \"\"\"Solve Day 1 part 1.\"\"\"\n",
    "  inp = inp |> .split() |> map$(int)\n",
    "  outp = pd.Series(inp).diff()[1:].astype(int).tolist()\n",
    "  outp = outp |> filter$(it -> it > 0)\n",
    "  return outp |> list |> len"
   ]
  },
  {
   "cell_type": "code",
   "execution_count": null,
   "id": "f4bcc5f8-f82c-40bd-8d90-3b314413c19b",
   "metadata": {},
   "outputs": [],
   "source": [
    "expected = 7\n",
    "result = solve_d01pt1(tests)\n",
    "aoc.assert_msg(\"test solve day 1 part 1\", result == expected) "
   ]
  },
  {
   "cell_type": "code",
   "execution_count": null,
   "id": "c522cf3f-d94d-4f72-b8b4-c82ef26d5bc1",
   "metadata": {},
   "outputs": [],
   "source": [
    "ins = aoc.read_file_to_str(\"./in/day01.in\")\n",
    "out = solve_d01pt1(ins)\n",
    "f\"day 1 part 1 output: {out}\" |> print"
   ]
  },
  {
   "cell_type": "code",
   "execution_count": null,
   "id": "f27a4526-6f5c-43dd-aceb-9dce4a18c2bb",
   "metadata": {},
   "outputs": [],
   "source": [
    "\"Day 1 part 2\" |> print"
   ]
  },
  {
   "cell_type": "code",
   "execution_count": null,
   "id": "b7c2a2e9-0664-4181-8c5f-f47b5d4ea1d5",
   "metadata": {},
   "outputs": [],
   "source": [
    "def solve_d01pt2(inp):\n",
    "  \"\"\"Solve Day 1 part 2.\"\"\"\n",
    "  inp = inp |> .split() |> map$(int)\n",
    "  outp = pd.Series(inp).rolling(3).sum().diff()[3:].astype(int).tolist()\n",
    "  return outp |> filter$(-> _ > 0) |> list |> len"
   ]
  },
  {
   "cell_type": "code",
   "execution_count": null,
   "id": "e927ce82-5757-430b-a720-7c99178b57cb",
   "metadata": {},
   "outputs": [],
   "source": [
    "expected = 5\n",
    "result = solve_d01pt2(tests)\n",
    "aoc.assert_msg(\"test solve day 1 part 2\", result == expected) "
   ]
  },
  {
   "cell_type": "code",
   "execution_count": null,
   "id": "d4a1f828-4502-43f8-a742-11f1f4d81aef",
   "metadata": {},
   "outputs": [],
   "source": [
    "out = solve_d01pt2(ins)\n",
    "f\"day 1 part 2 output: {out}\" |> print"
   ]
  },
  {
   "cell_type": "markdown",
   "id": "f06375ab-1987-4462-a3db-28e22bf94e67",
   "metadata": {},
   "source": [
    "## Day 2: Dive!"
   ]
  },
  {
   "cell_type": "code",
   "execution_count": null,
   "id": "c1fb7978-6912-4a71-9439-5715f872d11d",
   "metadata": {},
   "outputs": [],
   "source": [
    "\"Day 2\" |> print"
   ]
  },
  {
   "cell_type": "code",
   "execution_count": null,
   "id": "52cb9207-932c-4a80-ab87-5dd7e11ddd81",
   "metadata": {},
   "outputs": [],
   "source": [
    "def iterate(pos, cmd):\n",
    "  HPOS, DEPTH = 0, 1\n",
    "  direct, val = cmd.split(\" \")\n",
    "  val = int(val)\n",
    "  pos = pos.copy()\n",
    "  case direct:\n",
    "    match \"forward\":\n",
    "      pos[HPOS] += val\n",
    "    match \"down\":\n",
    "      pos[DEPTH] += val\n",
    "    match \"up\":\n",
    "      pos[DEPTH] -= val\n",
    "  return pos\n",
    "\n",
    "def solve_d02pt1(inp):\n",
    "  pos = [0, 0]\n",
    "  for cmd in inp.splitlines():\n",
    "    pos = iterate(pos, cmd)\n",
    "  return pos |> reduce$(*)\n",
    "\n",
    "tests = \"\"\"\n",
    "forward 5\n",
    "down 5\n",
    "forward 8\n",
    "up 3\n",
    "down 8\n",
    "forward 2\"\"\".strip()\n",
    "\n",
    "expected = 150\n",
    "result = solve_d02pt1(tests)\n",
    "aoc.assert_msg(\"test solve day 1 part 1\", result == expected)"
   ]
  },
  {
   "cell_type": "code",
   "execution_count": null,
   "id": "ee1eff1d-6b9f-4095-a120-42b513a0cb8c",
   "metadata": {},
   "outputs": [],
   "source": [
    "ins = aoc.read_file_to_str(\"./in/day02.in\")\n",
    "out = solve_d02pt1(ins)\n",
    "f\"day 2 part 1 output: {out}\" |> print"
   ]
  },
  {
   "cell_type": "code",
   "execution_count": null,
   "id": "d129a5fe-6f2e-487d-b0e6-617ab95b88b9",
   "metadata": {},
   "outputs": [],
   "source": [
    "\"Day 2 part 2\" |> print"
   ]
  },
  {
   "cell_type": "code",
   "execution_count": null,
   "id": "d4b20048-48cb-410f-bd67-7a099472fdfc",
   "metadata": {},
   "outputs": [],
   "source": [
    "def iterate2(pos, cmd):\n",
    "  HPOS, DEPTH, AIM = 0, 1, 2\n",
    "  direct, val = cmd.split(\" \")\n",
    "  val = int(val)\n",
    "  pos = pos.copy()\n",
    "  case direct:\n",
    "    match \"forward\":\n",
    "      pos[HPOS] += val\n",
    "      pos[DEPTH] += pos[AIM] * val\n",
    "    match \"down\":\n",
    "      pos[AIM] += val\n",
    "    match \"up\":\n",
    "      pos[AIM] -= val\n",
    "  return pos\n",
    "\n",
    "def solve_d02pt2(inp):\n",
    "  pos = [0, 0, 0]\n",
    "  for cmd in inp.splitlines():\n",
    "    pos = iterate2(pos, cmd)\n",
    "  return pos[0:2] |> reduce$(*)\n",
    "\n",
    "expected = 900\n",
    "result = solve_d02pt2(tests)\n",
    "aoc.assert_msg(\"test solve day 1 part 2\", result == expected)"
   ]
  },
  {
   "cell_type": "code",
   "execution_count": null,
   "id": "f1bbd02e-afd5-4a0a-ae17-626e788a3107",
   "metadata": {},
   "outputs": [],
   "source": [
    "# `ins` remains the same\n",
    "out = solve_d02pt2(ins)\n",
    "f\"day 2 part 2 output: {out}\" |> print"
   ]
  },
  {
   "cell_type": "markdown",
   "id": "dcbcbb1b-98e0-4e27-aa74-a7067ddb96ef",
   "metadata": {},
   "source": [
    "## Day 5: Hydrothermal Venture"
   ]
  },
  {
   "cell_type": "code",
   "execution_count": null,
   "id": "82c654e4-388e-4c02-a3d9-6250874ac768",
   "metadata": {},
   "outputs": [],
   "source": [
    "\"Day 5\" |> print"
   ]
  },
  {
   "cell_type": "code",
   "execution_count": null,
   "id": "120c68ec-9033-4fde-a787-674484a49cc0",
   "metadata": {},
   "outputs": [],
   "source": [
    "tests = \"\"\"\n",
    "0,9 -> 5,9\n",
    "8,0 -> 0,8\n",
    "9,4 -> 3,4\n",
    "2,2 -> 2,1\n",
    "7,0 -> 7,4\n",
    "6,4 -> 2,0\n",
    "0,9 -> 2,9\n",
    "3,4 -> 1,4\n",
    "0,0 -> 8,8\n",
    "5,5 -> 8,2\n",
    "\"\"\".strip()"
   ]
  },
  {
   "cell_type": "code",
   "execution_count": null,
   "id": "7ffd5443-7a69-4c32-84cd-d3aa2f2d819e",
   "metadata": {},
   "outputs": [],
   "source": [
    "def solve_d05pt1(ins):\n",
    "  lines = ins.splitlines() |> map$(-> _.split(\" -> \")) |> list\n",
    "  for lnidx in range(len(lines)):\n",
    "    for ptidx in range(2):\n",
    "      lines[lnidx][ptidx] = lines[lnidx][ptidx].split(\",\") |> map$(int) |> list\n",
    "  log.trace(lines)\n",
    "  grid = defaultdict(int)\n",
    "  for line in lines:\n",
    "    ptst, pten = line\n",
    "    if ptst[0] == pten[0]:  # horiz\n",
    "      log.trace(f\"horiz line {line}\")\n",
    "      x = ptst[0]\n",
    "      for y in range(min(ptst[1], pten[1]), max(ptst[1], pten[1])+1):\n",
    "        grid[tuple([x,y])] += 1\n",
    "    elif ptst[1] == pten[1]:  # vert\n",
    "      log.trace(f\"vert line {line}\")\n",
    "      y = ptst[1]\n",
    "      for x in range(min(ptst[0], pten[0]), max(ptst[0], pten[0])+1):\n",
    "        grid[tuple([x,y])] += 1\n",
    "    else:\n",
    "      pass\n",
    "  log.trace(grid)\n",
    "  intersects = grid.values() |> filter$(-> _ > 1) |> list |> len\n",
    "  log.debug(f\"intersects-#={intersects}\")\n",
    "  return intersects\n",
    "\n",
    "expected = 5\n",
    "log.setLevel(logging.DEBUG)\n",
    "result = solve_d05pt1(tests)\n",
    "aoc.assert_msg(\"test solve day 5 part 1\", result == expected)"
   ]
  },
  {
   "cell_type": "code",
   "execution_count": null,
   "id": "ab7cf43c-2f89-4e3c-9796-087608c93d36",
   "metadata": {},
   "outputs": [],
   "source": [
    "ins = aoc.read_file_to_str(\"./in/day05.in\")\n",
    "out = solve_d05pt1(ins)\n",
    "f\"day 2 part 1 output: {out}\" |> print"
   ]
  },
  {
   "cell_type": "code",
   "execution_count": null,
   "id": "2ae831af-ea68-4d93-83c8-4d64c9f2eb90",
   "metadata": {},
   "outputs": [],
   "source": [
    "\"Day 5 part 2\" |> print"
   ]
  },
  {
   "cell_type": "code",
   "execution_count": null,
   "id": "9b05a774-c51d-4b29-af44-769a307341cc",
   "metadata": {},
   "outputs": [],
   "source": [
    "def scan_grid(lines):\n",
    "  grid = defaultdict(int)\n",
    "  for line in lines:\n",
    "    ptst, pten = line\n",
    "    if ptst[0] == pten[0] and ptst[1] == pten[1]:  # point\n",
    "      grid[tuple(ptst)] += 1\n",
    "    elif ptst[0] == pten[0]:  # horiz\n",
    "      log.trace(f\"horiz line {line}\")\n",
    "      x = ptst[0]\n",
    "      for y in range(min(ptst[1], pten[1]), max(ptst[1], pten[1])+1):\n",
    "        grid[tuple([x,y])] += 1\n",
    "    elif ptst[1] == pten[1]:  # vert\n",
    "      log.trace(f\"vert line {line}\")\n",
    "      y = ptst[1]\n",
    "      for x in range(min(ptst[0], pten[0]), max(ptst[0], pten[0])+1):\n",
    "        grid[tuple([x,y])] += 1\n",
    "    else:  # diagonal\n",
    "      line = sorted(line, key=lambda it: it[0])\n",
    "      ptst, pten = line\n",
    "      if ptst[1] > pten[1]:\n",
    "        ystp = -1\n",
    "      else:\n",
    "        ystp = 1\n",
    "      log.trace(f\"diag line {line}\")\n",
    "      y = ptst[1]\n",
    "      for x in range(ptst[0], pten[0]+1):\n",
    "        log.trace(f\"set diag line-pt {[x,y]}\") \n",
    "        grid[tuple([x,y])] += 1\n",
    "        y += ystp\n",
    "  log.trace(grid)\n",
    "  return grid\n",
    "  \n",
    "def solve_d05pt2(ins):\n",
    "  lines = ins.splitlines() |> map$(-> _.split(\" -> \")) |> list\n",
    "  for lnidx in range(len(lines)):\n",
    "    for ptidx in range(2):\n",
    "      lines[lnidx][ptidx] = lines[lnidx][ptidx].split(\",\") |> map$(int) |> list\n",
    "  log.trace(lines)\n",
    "  grid = scan_grid(lines)\n",
    "  intersects = grid.values() |> filter$(-> _ > 1) |> list |> len\n",
    "  log.debug(f\"intersects-#={intersects}\")\n",
    "  #log.debug(f\"grid={grid}\")\n",
    "  return intersects\n",
    "\n",
    "expected = 12\n",
    "log.setLevel(logging.INFO)\n",
    "result = solve_d05pt2(tests)\n",
    "aoc.assert_msg(\"test solve day 5 part 1\", result == expected)"
   ]
  },
  {
   "cell_type": "code",
   "execution_count": null,
   "id": "70b095ca-7a88-42e8-a1e7-64090dbe28bc",
   "metadata": {},
   "outputs": [],
   "source": [
    "out = solve_d05pt2(ins)\n",
    "f\"day 2 part 2 output: {out}\" |> print"
   ]
  },
  {
   "cell_type": "code",
   "execution_count": null,
   "id": "c21f1a81-97c3-4f95-858d-e19d041f4a4e",
   "metadata": {},
   "outputs": [],
   "source": []
  }
 ],
 "metadata": {
  "kernelspec": {
   "display_name": "Coconut",
   "language": "coconut",
   "name": "coconut"
  },
  "language_info": {
   "codemirror_mode": {
    "name": "python",
    "version": 3
   },
   "file_extension": ".coco",
   "mimetype": "text/x-python3",
   "name": "coconut",
   "pygments_lexer": "coconut",
   "version": "1.5.0"
  }
 },
 "nbformat": 4,
 "nbformat_minor": 5
}
