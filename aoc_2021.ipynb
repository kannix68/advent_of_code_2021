{
 "cells": [
  {
   "cell_type": "markdown",
   "id": "084daaf7-bac8-42d9-935f-73dfc967a9fa",
   "metadata": {},
   "source": [
    "# Advent of Code 2021\n",
    "\n",
    "This solution (Jupyter notebook; python 3.10) by kannix68, @ 2021-12.  \\\n",
    "Using anaconda distro, conda v4.10.3. installation on MacOS v10.14.6 \"Mojave\"."
   ]
  },
  {
   "cell_type": "code",
   "execution_count": null,
   "id": "0097dc88-bc5f-4863-909f-d1bb1ebf8a73",
   "metadata": {},
   "outputs": [],
   "source": [
    "import sys\n",
    "import logging\n",
    "import itertools\n",
    "import re\n",
    "\n",
    "import numpy as np\n",
    "import pandas as pd\n",
    "\n",
    "import pylib.aochelper as aoc\n",
    "from pylib.aochelper import map_list as mapl\n",
    "from pylib.aochelper import filter_list as filterl\n",
    "\n",
    "print(\"Python version:\", sys.version)\n",
    "print(\"Version info:\", sys.version_info)\n",
    "\n",
    "log = aoc.getLogger(__name__)\n",
    "print(f\"Initial log-level={aoc.getLogLevelName(log.getEffectiveLevel())}.\")"
   ]
  },
  {
   "cell_type": "markdown",
   "id": "bc2c3b28-331a-4d8b-8a34-51ce061fb0b5",
   "metadata": {},
   "source": [
    "## Problem domain code"
   ]
  },
  {
   "cell_type": "markdown",
   "id": "cf2fb700-a61a-4c46-ba70-b6418c3848b8",
   "metadata": {},
   "source": [
    "### Day 1: Sonar Sweep"
   ]
  },
  {
   "cell_type": "code",
   "execution_count": null,
   "id": "8fd00216-fca9-45eb-a783-23eb8bc173b8",
   "metadata": {},
   "outputs": [],
   "source": [
    "print(\"Day 1\")\n",
    "\n",
    "tests = \"\"\"\n",
    "199\n",
    "200\n",
    "208\n",
    "210\n",
    "200\n",
    "207\n",
    "240\n",
    "269\n",
    "260\n",
    "263\"\"\".strip()"
   ]
  },
  {
   "cell_type": "code",
   "execution_count": null,
   "id": "a8bb6622-80f2-48b5-8f90-3a0986322b53",
   "metadata": {},
   "outputs": [],
   "source": [
    "def solve01pt1(inp):\n",
    "  \"\"\"Solve Day 1 part 1.\"\"\"\n",
    "  inp = mapl(int, inp.split())\n",
    "  log.debug(f\"len(input)={len(inp)}\")\n",
    "  #ar = np.array(inp) # numpy not as expressive as wished\n",
    "  df = pd.DataFrame(inp, columns=['depth'])\n",
    "  outp = df.depth.diff()[1:].astype(int).tolist()\n",
    "  #print(outp)\n",
    "  outp = filterl(lambda it: it > 0, outp)\n",
    "  log.debug(f\"rc={len(outp)}\")\n",
    "  return len(outp)"
   ]
  },
  {
   "cell_type": "code",
   "execution_count": null,
   "id": "b7792187-1306-4d1b-be1d-eaad549eb9a6",
   "metadata": {},
   "outputs": [],
   "source": [
    "expected = 7\n",
    "result = solve01pt1(tests)\n",
    "aoc.assert_msg(\"test solve day 1 part 1\", result == expected) "
   ]
  },
  {
   "cell_type": "code",
   "execution_count": null,
   "id": "c1132b4b-328d-4e25-a126-67c22edba7a3",
   "metadata": {},
   "outputs": [],
   "source": [
    "ins = aoc.read_file_to_str(\"./in/day01.in\")\n",
    "out = solve01pt1(ins)\n",
    "print(\"day 1 part 1 output:\", out)"
   ]
  },
  {
   "cell_type": "code",
   "execution_count": null,
   "id": "3ebc6449-a447-48b6-a0b3-c81b715f98a2",
   "metadata": {},
   "outputs": [],
   "source": [
    "print(\"Day 1 part 2\")"
   ]
  },
  {
   "cell_type": "code",
   "execution_count": null,
   "id": "2cb88678-2038-452d-8bd4-0c89695f1f5e",
   "metadata": {},
   "outputs": [],
   "source": [
    "def solve01pt2(inp):\n",
    "  \"\"\"Solve Day 1 part 2.\"\"\"\n",
    "  inp = mapl(int, inp.split())\n",
    "  df = pd.DataFrame(inp, columns=['depth'])\n",
    "  outp = df.depth.rolling(3).sum().diff()[3:].astype(int).tolist()\n",
    "  outp = filterl(lambda it: it > 0, outp)\n",
    "  return len(outp)"
   ]
  },
  {
   "cell_type": "code",
   "execution_count": null,
   "id": "554e9e1f-88cb-4bda-94d1-7183b540350a",
   "metadata": {},
   "outputs": [],
   "source": [
    "expected = 5\n",
    "result = solve01pt2(tests)\n",
    "aoc.assert_msg(\"test solve day 1 part 1\", result == expected) "
   ]
  },
  {
   "cell_type": "code",
   "execution_count": null,
   "id": "15409b7c-02c3-4474-9e3c-091d017c274e",
   "metadata": {},
   "outputs": [],
   "source": [
    "out = solve01pt2(ins)\n",
    "print(\"day 1 part 2 output:\", out)"
   ]
  },
  {
   "cell_type": "code",
   "execution_count": null,
   "id": "14a380c8-1b2e-4192-a0db-248513a1eae0",
   "metadata": {},
   "outputs": [],
   "source": []
  }
 ],
 "metadata": {
  "kernelspec": {
   "display_name": "Python 3 (ipykernel)",
   "language": "python",
   "name": "python3"
  },
  "language_info": {
   "codemirror_mode": {
    "name": "ipython",
    "version": 3
   },
   "file_extension": ".py",
   "mimetype": "text/x-python",
   "name": "python",
   "nbconvert_exporter": "python",
   "pygments_lexer": "ipython3",
   "version": "3.10.0"
  }
 },
 "nbformat": 4,
 "nbformat_minor": 5
}
