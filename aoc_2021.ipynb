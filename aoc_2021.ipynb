{
 "cells": [
  {
   "cell_type": "markdown",
   "id": "084daaf7-bac8-42d9-935f-73dfc967a9fa",
   "metadata": {},
   "source": [
    "# Advent of Code 2021\n",
    "\n",
    "This solution (Jupyter notebook; python 3.10) by kannix68, @ 2021-12.  \\\n",
    "Using anaconda distro, conda v4.10.3. installation on MacOS v10.14.6 \"Mojave\"."
   ]
  },
  {
   "cell_type": "code",
   "execution_count": 5,
   "id": "0097dc88-bc5f-4863-909f-d1bb1ebf8a73",
   "metadata": {},
   "outputs": [
    {
     "name": "stdout",
     "output_type": "stream",
     "text": [
      "Python version: 3.10.0 (default, Nov 10 2021, 11:24:47) [Clang 12.0.0 ]\n",
      "Version info: sys.version_info(major=3, minor=10, micro=0, releaselevel='final', serial=0)\n",
      "Initial log-level=INFO.\n"
     ]
    }
   ],
   "source": [
    "import sys\n",
    "import logging\n",
    "import itertools\n",
    "import re\n",
    "\n",
    "import numpy as np\n",
    "\n",
    "import pylib.aochelper as aoc\n",
    "from pylib.aochelper import map_list as mapl\n",
    "from pylib.aochelper import filter_list as filterl\n",
    "\n",
    "print(\"Python version:\", sys.version)\n",
    "print(\"Version info:\", sys.version_info)\n",
    "\n",
    "log = aoc.getLogger(__name__)\n",
    "print(f\"Initial log-level={aoc.getLogLevelName(log.getEffectiveLevel())}.\")"
   ]
  },
  {
   "cell_type": "markdown",
   "id": "bc2c3b28-331a-4d8b-8a34-51ce061fb0b5",
   "metadata": {},
   "source": [
    "## Problem domain code"
   ]
  },
  {
   "cell_type": "markdown",
   "id": "cf2fb700-a61a-4c46-ba70-b6418c3848b8",
   "metadata": {},
   "source": [
    "### Day 1: Name"
   ]
  },
  {
   "cell_type": "code",
   "execution_count": 7,
   "id": "8fd00216-fca9-45eb-a783-23eb8bc173b8",
   "metadata": {},
   "outputs": [
    {
     "name": "stdout",
     "output_type": "stream",
     "text": [
      "Day 1 a\n"
     ]
    }
   ],
   "source": [
    "print(\"Day 1 a\")\n",
    "tests = \"tests\"\n",
    "expected = \"expected\""
   ]
  },
  {
   "cell_type": "code",
   "execution_count": 8,
   "id": "a8bb6622-80f2-48b5-8f90-3a0986322b53",
   "metadata": {},
   "outputs": [],
   "source": [
    "def solve01a(s):\n",
    "  \"\"\"Solve Day 1 part a.\"\"\"\n",
    "  return \"unexpected\""
   ]
  },
  {
   "cell_type": "code",
   "execution_count": 4,
   "id": "b7792187-1306-4d1b-be1d-eaad549eb9a6",
   "metadata": {},
   "outputs": [
    {
     "ename": "AssertionError",
     "evalue": "ERROR on assert: test solve 01a",
     "output_type": "error",
     "traceback": [
      "\u001b[0;31m---------------------------------------------------------------------------\u001b[0m",
      "\u001b[0;31mAssertionError\u001b[0m                            Traceback (most recent call last)",
      "\u001b[0;32m/var/folders/2k/4bh910rn07x0rq_9l66s0ssc0000gn/T/ipykernel_8728/2251795771.py\u001b[0m in \u001b[0;36m<module>\u001b[0;34m\u001b[0m\n\u001b[1;32m      1\u001b[0m \u001b[0mresult\u001b[0m \u001b[0;34m=\u001b[0m \u001b[0msolve01a\u001b[0m\u001b[0;34m(\u001b[0m\u001b[0mtests\u001b[0m\u001b[0;34m)\u001b[0m\u001b[0;34m\u001b[0m\u001b[0;34m\u001b[0m\u001b[0m\n\u001b[0;32m----> 2\u001b[0;31m \u001b[0maoc\u001b[0m\u001b[0;34m.\u001b[0m\u001b[0massert_msg\u001b[0m\u001b[0;34m(\u001b[0m\u001b[0;34m\"test solve 01a\"\u001b[0m\u001b[0;34m,\u001b[0m \u001b[0mresult\u001b[0m \u001b[0;34m==\u001b[0m \u001b[0mexpected\u001b[0m\u001b[0;34m)\u001b[0m\u001b[0;34m\u001b[0m\u001b[0;34m\u001b[0m\u001b[0m\n\u001b[0m",
      "\u001b[0;32m/Volumes/manzana_data/usrs/rhe/devel/projects/advent_of_code_2021/pylib/aochelper.py\u001b[0m in \u001b[0;36massert_msg\u001b[0;34m(msg, assertion)\u001b[0m\n\u001b[1;32m     16\u001b[0m \u001b[0;32mdef\u001b[0m \u001b[0massert_msg\u001b[0m\u001b[0;34m(\u001b[0m\u001b[0mmsg\u001b[0m\u001b[0;34m:\u001b[0m \u001b[0mstr\u001b[0m\u001b[0;34m,\u001b[0m \u001b[0massertion\u001b[0m\u001b[0;34m:\u001b[0m \u001b[0mbool\u001b[0m\u001b[0;34m)\u001b[0m \u001b[0;34m->\u001b[0m \u001b[0;32mNone\u001b[0m\u001b[0;34m:\u001b[0m\u001b[0;34m\u001b[0m\u001b[0;34m\u001b[0m\u001b[0m\n\u001b[1;32m     17\u001b[0m   \u001b[0;34m\"\"\"Assert an expected function result according to inputs.\"\"\"\u001b[0m\u001b[0;34m\u001b[0m\u001b[0;34m\u001b[0m\u001b[0m\n\u001b[0;32m---> 18\u001b[0;31m   \u001b[0;32massert\u001b[0m \u001b[0massertion\u001b[0m\u001b[0;34m,\u001b[0m \u001b[0;34m\"ERROR on assert: {}\"\u001b[0m\u001b[0;34m.\u001b[0m\u001b[0mformat\u001b[0m\u001b[0;34m(\u001b[0m\u001b[0mmsg\u001b[0m\u001b[0;34m)\u001b[0m\u001b[0;34m\u001b[0m\u001b[0;34m\u001b[0m\u001b[0m\n\u001b[0m\u001b[1;32m     19\u001b[0m   \u001b[0mprint\u001b[0m\u001b[0;34m(\u001b[0m\u001b[0;34m\"assert-OK: {}\"\u001b[0m\u001b[0;34m.\u001b[0m\u001b[0mformat\u001b[0m\u001b[0;34m(\u001b[0m\u001b[0mmsg\u001b[0m\u001b[0;34m)\u001b[0m\u001b[0;34m)\u001b[0m\u001b[0;34m\u001b[0m\u001b[0;34m\u001b[0m\u001b[0m\n\u001b[1;32m     20\u001b[0m \u001b[0;34m\u001b[0m\u001b[0m\n",
      "\u001b[0;31mAssertionError\u001b[0m: ERROR on assert: test solve 01a"
     ]
    }
   ],
   "source": [
    "result = solve01a(tests)\n",
    "aoc.assert_msg(\"test solve 01a\", result == expected) "
   ]
  },
  {
   "cell_type": "code",
   "execution_count": null,
   "id": "c1132b4b-328d-4e25-a126-67c22edba7a3",
   "metadata": {},
   "outputs": [],
   "source": [
    "ins = aoc.read_file_to_list('./in/day01.in')\n",
    "out = solve01a(ins)\n",
    "print("
   ]
  }
 ],
 "metadata": {
  "kernelspec": {
   "display_name": "Python 3 (ipykernel)",
   "language": "python",
   "name": "python3"
  },
  "language_info": {
   "codemirror_mode": {
    "name": "ipython",
    "version": 3
   },
   "file_extension": ".py",
   "mimetype": "text/x-python",
   "name": "python",
   "nbconvert_exporter": "python",
   "pygments_lexer": "ipython3",
   "version": "3.10.0"
  }
 },
 "nbformat": 4,
 "nbformat_minor": 5
}
