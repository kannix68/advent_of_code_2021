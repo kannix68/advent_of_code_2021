{
 "cells": [
  {
   "cell_type": "markdown",
   "id": "084daaf7-bac8-42d9-935f-73dfc967a9fa",
   "metadata": {},
   "source": [
    "# Advent of Code 2021\n",
    "\n",
    "This solution (Jupyter notebook; python 3.10) by kannix68, @ 2021-12.  \\\n",
    "Using anaconda distro, conda v4.10.3. installation on MacOS v10.14.6 \"Mojave\"."
   ]
  },
  {
   "cell_type": "code",
   "execution_count": null,
   "id": "0097dc88-bc5f-4863-909f-d1bb1ebf8a73",
   "metadata": {},
   "outputs": [],
   "source": [
    "import copy\n",
    "import itertools\n",
    "import logging\n",
    "import re\n",
    "import sys\n",
    "\n",
    "import numpy as np\n",
    "import pandas as pd\n",
    "\n",
    "import pylib.aochelper as aoc\n",
    "from pylib.aochelper import map_list as mapl\n",
    "from pylib.aochelper import filter_list as filterl\n",
    "\n",
    "print(\"Python version:\", sys.version)\n",
    "print(\"Version info:\", sys.version_info)\n",
    "\n",
    "log = aoc.getLogger(__name__)\n",
    "print(f\"Initial log-level={aoc.getLogLevelName(log.getEffectiveLevel())}.\")"
   ]
  },
  {
   "cell_type": "markdown",
   "id": "bc2c3b28-331a-4d8b-8a34-51ce061fb0b5",
   "metadata": {},
   "source": [
    "## Problem domain code"
   ]
  },
  {
   "cell_type": "markdown",
   "id": "cf2fb700-a61a-4c46-ba70-b6418c3848b8",
   "metadata": {},
   "source": [
    "### Day 1: Sonar Sweep"
   ]
  },
  {
   "cell_type": "code",
   "execution_count": null,
   "id": "8fd00216-fca9-45eb-a783-23eb8bc173b8",
   "metadata": {},
   "outputs": [],
   "source": [
    "print(\"Day 1\")\n",
    "\n",
    "tests = \"\"\"\n",
    "199\n",
    "200\n",
    "208\n",
    "210\n",
    "200\n",
    "207\n",
    "240\n",
    "269\n",
    "260\n",
    "263\"\"\".strip()"
   ]
  },
  {
   "cell_type": "code",
   "execution_count": null,
   "id": "a8bb6622-80f2-48b5-8f90-3a0986322b53",
   "metadata": {},
   "outputs": [],
   "source": [
    "def solve_d01pt1(inp):\n",
    "  \"\"\"Solve Day 1 part 1.\"\"\"\n",
    "  inp = map(int, inp.split())\n",
    "  # diff-window (\"right\"): first row will have NaN, so omit:\n",
    "  outp = pd.Series(inp).diff()[1:].astype(int).tolist()\n",
    "  outp = filterl(lambda it: it > 0, outp)\n",
    "  return len(outp)"
   ]
  },
  {
   "cell_type": "code",
   "execution_count": null,
   "id": "b7792187-1306-4d1b-be1d-eaad549eb9a6",
   "metadata": {},
   "outputs": [],
   "source": [
    "#log.setLevel(logging.DEBUG)\n",
    "expected = 7\n",
    "result = solve_d01pt1(tests)\n",
    "aoc.assert_msg(\"test solve day 1 part 1\", result == expected) "
   ]
  },
  {
   "cell_type": "code",
   "execution_count": null,
   "id": "c1132b4b-328d-4e25-a126-67c22edba7a3",
   "metadata": {},
   "outputs": [],
   "source": [
    "ins = aoc.read_file_to_str(\"./in/day01.in\")\n",
    "out = solve_d01pt1(ins)\n",
    "print(\"day 1 part 1 output:\", out)"
   ]
  },
  {
   "cell_type": "code",
   "execution_count": null,
   "id": "3ebc6449-a447-48b6-a0b3-c81b715f98a2",
   "metadata": {},
   "outputs": [],
   "source": [
    "print(\"Day 1 part 2\")"
   ]
  },
  {
   "cell_type": "code",
   "execution_count": null,
   "id": "2cb88678-2038-452d-8bd4-0c89695f1f5e",
   "metadata": {},
   "outputs": [],
   "source": [
    "def solve_d01pt2(inp):\n",
    "  \"\"\"Solve Day 1 part 2.\"\"\"\n",
    "  inp = map(int, inp.split())\n",
    "  # rolling(3)-window (\"right\"): first 3 rows will have NaN, so omit:\n",
    "  outp = pd.Series(inp).rolling(3).sum().diff()[3:].astype(int).tolist()\n",
    "  outp = filterl(lambda it: it > 0, outp)\n",
    "  return len(outp)"
   ]
  },
  {
   "cell_type": "code",
   "execution_count": null,
   "id": "554e9e1f-88cb-4bda-94d1-7183b540350a",
   "metadata": {},
   "outputs": [],
   "source": [
    "expected = 5\n",
    "result = solve_d01pt2(tests)\n",
    "aoc.assert_msg(\"test solve day 1 part 2\", result == expected) "
   ]
  },
  {
   "cell_type": "code",
   "execution_count": null,
   "id": "15409b7c-02c3-4474-9e3c-091d017c274e",
   "metadata": {},
   "outputs": [],
   "source": [
    "out = solve_d01pt2(ins)\n",
    "print(\"day 1 part 2 output:\", out)"
   ]
  },
  {
   "cell_type": "markdown",
   "id": "701c13ac-14a9-49e7-87af-e6ae7a6fe549",
   "metadata": {},
   "source": [
    "## Day 2: Dive!"
   ]
  },
  {
   "cell_type": "code",
   "execution_count": null,
   "id": "3e2666e2-c558-4339-9ae9-0dffd8c1c9fc",
   "metadata": {},
   "outputs": [],
   "source": [
    "print(\"Day 2\")"
   ]
  },
  {
   "cell_type": "code",
   "execution_count": null,
   "id": "b4e53600-cec6-40a9-ae1a-bd51c7158a81",
   "metadata": {},
   "outputs": [],
   "source": [
    "tests = \"\"\"\n",
    "forward 5\n",
    "down 5\n",
    "forward 8\n",
    "up 3\n",
    "down 8\n",
    "forward 2\"\"\".strip()\n",
    "\n",
    "def solve_d02pt1(inp):\n",
    "  log.trace(inp)\n",
    "  cmds = inp.splitlines()\n",
    "  pos = [0, 0]\n",
    "  for cmd in cmds:\n",
    "    log.trace(cmd)\n",
    "    direct, val = cmd.split(\" \")\n",
    "    val = int(val)\n",
    "    if direct == \"forward\":\n",
    "      pos[0] += val\n",
    "    elif direct == \"down\":\n",
    "      pos[1] += val\n",
    "    elif direct == \"up\":\n",
    "      pos[1] -= val\n",
    "    log.trace(f\"direct={direct}, val={val}; pos={pos}\")\n",
    "  rc = pos[0] * pos[1]\n",
    "  log.debug(f\"rc={rc}\")\n",
    "  return rc\n",
    "\n",
    "expected = 150\n",
    "result = solve_d02pt1(tests)\n",
    "aoc.assert_msg(\"test solve day 1 part 1\", result == expected)"
   ]
  },
  {
   "cell_type": "code",
   "execution_count": null,
   "id": "a22abdb7-688d-4ea5-b13f-9125e4f6f379",
   "metadata": {},
   "outputs": [],
   "source": [
    "ins = aoc.read_file_to_str(\"./in/day02.in\")\n",
    "out = solve_d02pt1(ins)\n",
    "print(\"day 2 part 1 output:\", out)"
   ]
  },
  {
   "cell_type": "code",
   "execution_count": null,
   "id": "e4469949-a27c-41d9-a6ec-9956001dcaec",
   "metadata": {},
   "outputs": [],
   "source": [
    "print(\"Day 2 part 2\")"
   ]
  },
  {
   "cell_type": "code",
   "execution_count": null,
   "id": "5a90f3ad-de58-46d6-98ff-082668aa7791",
   "metadata": {},
   "outputs": [],
   "source": [
    "def solve_d02pt2(inp):\n",
    "  HPOS, DEPTH, AIM = 0, 1, 2\n",
    "  cmds = inp.splitlines()\n",
    "  pos = [0, 0, 0]\n",
    "  for cmd in cmds:\n",
    "    direct, val = cmd.split(\" \")\n",
    "    val = int(val)\n",
    "    if direct == \"forward\":\n",
    "      pos[HPOS] += val\n",
    "      pos[DEPTH] += pos[AIM] * val\n",
    "    elif direct == \"down\":\n",
    "      pos[AIM] += val\n",
    "    elif direct == \"up\":\n",
    "      pos[AIM] -= val\n",
    "  rc = pos[0] * pos[1]\n",
    "  log.debug(f\"rc={rc}\")\n",
    "  return rc\n",
    "\n",
    "# `tests` remains the same\n",
    "expected = 900\n",
    "result = solve_d02pt2(tests)\n",
    "aoc.assert_msg(\"test solve day 2 part 2\", result == expected)"
   ]
  },
  {
   "cell_type": "code",
   "execution_count": null,
   "id": "3efae3b2-b2ef-40b2-922d-042f7716732f",
   "metadata": {},
   "outputs": [],
   "source": [
    "# `ins` remains the same\n",
    "out = solve_d02pt2(ins)\n",
    "print(\"day 2 part 2 output:\", out)"
   ]
  },
  {
   "cell_type": "markdown",
   "id": "95bc1238-ec89-417d-bd2a-0874f6a2031c",
   "metadata": {},
   "source": [
    "## Day 3: Binary Diagnostic"
   ]
  },
  {
   "cell_type": "code",
   "execution_count": null,
   "id": "6814294a-b8e5-48f0-954c-7eb09736f9f9",
   "metadata": {},
   "outputs": [],
   "source": [
    "print(\"Day 3\")"
   ]
  },
  {
   "cell_type": "code",
   "execution_count": null,
   "id": "5d9b6c1f-8b92-4ff7-ae5d-5c65b4357ab3",
   "metadata": {},
   "outputs": [],
   "source": [
    "tests = \"\"\"\n",
    "00100\n",
    "11110\n",
    "10110\n",
    "10111\n",
    "10101\n",
    "01111\n",
    "00111\n",
    "11100\n",
    "10000\n",
    "11001\n",
    "00010\n",
    "01010\n",
    "\"\"\".strip()\n",
    "\n",
    "def T(lst):\n",
    "  \"\"\"Transpose a 2d list.\"\"\"\n",
    "  return [list(i) for i in zip(*lst)]  # transpose\n",
    "\n",
    "def solve_d03pt1(ins):\n",
    "  lst = ins.splitlines()\n",
    "  for idx in range(len(lst)):\n",
    "    lst[idx] = mapl(int, list(lst[idx]))\n",
    "  l = len(lst)\n",
    "  log.debug(lst)\n",
    "  in_t = T(lst)\n",
    "  log.debug(in_t)\n",
    "  blst = []\n",
    "  cblst = []\n",
    "  for col in in_t:\n",
    "    c0, c1 = col.count(0), l - col.count(0)\n",
    "    if c0 > c1:\n",
    "      i = 0\n",
    "      c = 1\n",
    "    else:\n",
    "      i = 1\n",
    "      c = 0\n",
    "    blst.append(i)\n",
    "    cblst.append(c)\n",
    "  log.debug(blst)\n",
    "  bnum = int(str.join('', map(str, blst)), 2)\n",
    "  cnum = int(str.join('', map(str, cblst)), 2)\n",
    "  log.debug([bnum, cnum])\n",
    "  return bnum * cnum\n",
    "\n",
    "expected = 198\n",
    "log.setLevel(logging.INFO)\n",
    "result = solve_d03pt1(tests)\n",
    "aoc.assert_msg(\"test solve day 3 part 1\", result == expected)"
   ]
  },
  {
   "cell_type": "code",
   "execution_count": null,
   "id": "8e6abd0b-b904-4607-8b47-2d72dc82b5f3",
   "metadata": {},
   "outputs": [],
   "source": [
    "ins = aoc.read_file_to_str(\"./in/day03.in\")\n",
    "out = solve_d03pt1(ins)\n",
    "print(\"day 3 part 1 output:\", out)"
   ]
  },
  {
   "cell_type": "code",
   "execution_count": null,
   "id": "52450294-2726-4792-868a-87540e7f8f26",
   "metadata": {},
   "outputs": [],
   "source": [
    "print(\"Day 3 part 2\")"
   ]
  },
  {
   "cell_type": "markdown",
   "id": "4ae92b96-c854-47be-a9d3-a63d76df3918",
   "metadata": {},
   "source": [
    "See coconut language solution."
   ]
  },
  {
   "cell_type": "markdown",
   "id": "e54069dd-751f-4825-9d5f-95b83f9c2a21",
   "metadata": {},
   "source": [
    "## Day 4: Giant Squid"
   ]
  },
  {
   "cell_type": "code",
   "execution_count": null,
   "id": "fcfc3844-58e4-4951-925e-f9526b19a2af",
   "metadata": {},
   "outputs": [],
   "source": [
    "print(\"Day 4, bingo!\")"
   ]
  },
  {
   "cell_type": "code",
   "execution_count": null,
   "id": "12d532cd-9e74-4ded-92b1-f064d1bd50ed",
   "metadata": {},
   "outputs": [],
   "source": [
    "tests = \"\"\"\n",
    "7,4,9,5,11,17,23,2,0,14,21,24,10,16,13,6,15,25,12,22,18,20,8,19,3,26,1\n",
    "\n",
    "22 13 17 11  0\n",
    " 8  2 23  4 24\n",
    "21  9 14 16  7\n",
    " 6 10  3 18  5\n",
    " 1 12 20 15 19\n",
    "\n",
    " 3 15  0  2 22\n",
    " 9 18 13 17  5\n",
    "19  8  7 25 23\n",
    "20 11 10 24  4\n",
    "14 21 16 12  6\n",
    "\n",
    "14 21 17 24  4\n",
    "10 16 15  9 19\n",
    "18  8 23 26 20\n",
    "22 11 13  6  5\n",
    " 2  0 12  3  7\n",
    "\"\"\".strip()"
   ]
  },
  {
   "cell_type": "code",
   "execution_count": null,
   "id": "5fb5659d-0dd4-45fc-a3dd-8af23783c9a3",
   "metadata": {},
   "outputs": [],
   "source": [
    "def solve_d04pt1(ins):\n",
    "  \"\"\"Bingo subsystem.\"\"\"\n",
    "  lst = ins.split(\"\\n\\n\")\n",
    "  draws, boards = lst[0], lst[1:]\n",
    "  boardlen = 5\n",
    "  draws = mapl(int, draws.split(\",\"))\n",
    "  boards = mapl(lambda it: mapl(lambda inr: mapl(int, re.split(r\"\\s+\", inr.strip())), it.splitlines()), boards)\n",
    "  tboards = mapl(lambda it: T(it), boards)\n",
    "  log.debug(f\"draws={draws}\")\n",
    "  log.debug(f\"boards={boards}\")\n",
    "  log.debug(f\"boards0={boards[0]} boards0T={T(boards[0])}\")\n",
    "  found = False\n",
    "  crossed = []\n",
    "  for nums in range(boardlen, len(draws)):\n",
    "    drawn = set(draws[0:nums])\n",
    "    log.debug(f\"draw={drawn}\")\n",
    "    for bdidx in range(len(boards)):\n",
    "      for rowidx in range(boardlen):\n",
    "        row, col = set(boards[bdidx][rowidx]), set(tboards[bdidx][rowidx])\n",
    "        log.trace(f\"r={row}; c={col}; drawn={drawn}\")\n",
    "        if set(row).issubset(drawn):\n",
    "          log.info(f\"found bingo! board#{bdidx} row={row}; num={draws[nums-1]}\")\n",
    "          found = True\n",
    "          crossed = row\n",
    "          break\n",
    "        elif set(col).issubset(drawn):\n",
    "          log.info(f\"found bingo! board#{bdidx} col={col}; num={draws[nums]-1}\")\n",
    "          found = True\n",
    "          crossed = col\n",
    "          break\n",
    "      if found:\n",
    "        break\n",
    "    if found:\n",
    "      break\n",
    "  log.debug(f\"idx={bdidx}, nums-drawn-idx={nums} crossed={crossed}, drawn={drawn}\")\n",
    "  remd = set(aoc.flatten(boards[bdidx])) - set(drawn)\n",
    "  sm = sum(remd)\n",
    "  last_drawn = draws[nums-1]\n",
    "  log.debug(f\"  last_drawn={last_drawn}; sum={sm} of remainders={remd}\")\n",
    "  return sm * last_drawn\n",
    "\n",
    "expected = 4512\n",
    "log.setLevel(logging.INFO)\n",
    "result = solve_d04pt1(tests)\n",
    "aoc.assert_msg(\"test solve day 4 part 1\", result == expected)"
   ]
  },
  {
   "cell_type": "code",
   "execution_count": null,
   "id": "295e7d55-e085-46cc-98f2-68e9a8518cbc",
   "metadata": {},
   "outputs": [],
   "source": [
    "ins = aoc.read_file_to_str(\"./in/day04.in\")\n",
    "out = solve_d04pt1(ins)\n",
    "print(\"day 4 part 1 output:\", out)"
   ]
  },
  {
   "cell_type": "code",
   "execution_count": null,
   "id": "42cb898b-b986-4105-a1bb-abb83175c782",
   "metadata": {},
   "outputs": [],
   "source": [
    "print(\"Day 4 part 2: last bingo board to win\")"
   ]
  },
  {
   "cell_type": "code",
   "execution_count": null,
   "id": "e2e1286b-174e-4038-a05a-b7e1a70d1a2b",
   "metadata": {},
   "outputs": [],
   "source": [
    "def find_winboard(draws, boards, fromidx):\n",
    "  \"\"\"Find the first winning boards, return info-dictionary.\"\"\"\n",
    "  tboards = mapl(lambda it: T(it), boards)\n",
    "  boardlen = len(boards[0][0])\n",
    "  found = False\n",
    "  crossed = []\n",
    "  for nums in range(boardlen, len(draws)):\n",
    "    drawn = set(draws[0:nums])\n",
    "    log.trace(f\"draw={drawn}\")\n",
    "    for bdidx in range(len(boards)):\n",
    "      for rowidx in range(boardlen):\n",
    "        row, col = set(boards[bdidx][rowidx]), set(tboards[bdidx][rowidx])\n",
    "        if set(row).issubset(drawn):\n",
    "          log.debug(f\"found bingo! board#{bdidx} row={row}; num={draws[nums-1]}\")\n",
    "          found = True\n",
    "          crossed = row\n",
    "          break\n",
    "        elif set(col).issubset(drawn):\n",
    "          log.debug(f\"found bingo! board#{bdidx} col={col}; num={draws[nums-1]}\")\n",
    "          found = True\n",
    "          crossed = col\n",
    "          break\n",
    "      if found:\n",
    "        break\n",
    "    if found:\n",
    "      break\n",
    "  remd = set(aoc.flatten(boards[bdidx])) - set(drawn)\n",
    "  sm = sum(remd)\n",
    "  last_drawn = draws[nums-1]\n",
    "  d = {\"board_idx\": bdidx, \"result\": sm * last_drawn, \"nums_drawn\":nums-1}\n",
    "  return d\n",
    "\n",
    "def solve_d04pt2(ins):\n",
    "  \"\"\"Bingo subsystem, loop through all winners.\"\"\"\n",
    "  lst = ins.split(\"\\n\\n\")\n",
    "  draws, boards = lst[0], lst[1:]\n",
    "  boardlen = len(boards[0][0])\n",
    "  draws = mapl(int, draws.split(\",\"))\n",
    "  boards = mapl(lambda it: mapl(lambda inr: mapl(int, re.split(r\"\\s+\", inr.strip())), it.splitlines()), boards)\n",
    "  boards_num = len(boards)\n",
    "  for i in range(boards_num): # play until last board wins, removing winners\n",
    "    log.debug(f\"start bingo #boards={len(boards)}\")\n",
    "    resd = find_winboard(draws, boards, 0)\n",
    "    log.debug(f\"winboard {resd}\")\n",
    "    boards.remove(boards[resd[\"board_idx\"]])\n",
    "  return resd[\"result\"]\n",
    "\n",
    "expected = 1924\n",
    "log.setLevel(logging.INFO)\n",
    "result = solve_d04pt2(tests)\n",
    "aoc.assert_msg(\"test solve day 4 part 2\", result == expected)"
   ]
  },
  {
   "cell_type": "code",
   "execution_count": null,
   "id": "4fd85ce7-3355-4d35-a868-67b2bab86093",
   "metadata": {},
   "outputs": [],
   "source": [
    "out = solve_d04pt2(ins)\n",
    "print(\"day 4 part 2 output:\", out)"
   ]
  },
  {
   "cell_type": "markdown",
   "id": "a5888f9e-e643-4bf7-b194-4ff7ad697653",
   "metadata": {},
   "source": [
    "## Day 5: Hydrothermal Venture\n",
    "See coconut language solution."
   ]
  },
  {
   "cell_type": "markdown",
   "id": "42e07db1-6456-4d77-8c42-7897f3de1346",
   "metadata": {},
   "source": [
    "## Day 6: Lanternfish\n",
    "See coconut language solution.\n",
    "\n",
    "DE: [Nikolaus von Myra](https://de.wikipedia.org/wiki/Nikolaus_von_Myra)  \\\n",
    "EN: [Saint Nicholas](https://en.wikipedia.org/wiki/Saint_Nicholas)  \\\n",
    "ES: [Nicolás de Bari](https://es.wikipedia.org/wiki/Nicol%C3%A1s_de_Bari)"
   ]
  },
  {
   "cell_type": "markdown",
   "id": "ad92eaf0-660b-4864-946a-c11a1ab6f3d9",
   "metadata": {},
   "source": [
    "## Day 7: The Treachery of Whales\n",
    "See coconut language solution."
   ]
  },
  {
   "cell_type": "code",
   "execution_count": null,
   "id": "3ea62ff8-609a-4a7c-9bd7-6a12f4ce96d1",
   "metadata": {},
   "outputs": [],
   "source": []
  }
 ],
 "metadata": {
  "kernelspec": {
   "display_name": "Python 3 (ipykernel)",
   "language": "python",
   "name": "python3"
  },
  "language_info": {
   "codemirror_mode": {
    "name": "ipython",
    "version": 3
   },
   "file_extension": ".py",
   "mimetype": "text/x-python",
   "name": "python",
   "nbconvert_exporter": "python",
   "pygments_lexer": "ipython3",
   "version": "3.10.0"
  }
 },
 "nbformat": 4,
 "nbformat_minor": 5
}
